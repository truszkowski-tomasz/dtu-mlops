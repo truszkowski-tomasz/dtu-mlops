{
 "cells": [
  {
   "cell_type": "code",
   "execution_count": 2,
   "metadata": {},
   "outputs": [
    {
     "name": "stdout",
     "output_type": "stream",
     "text": [
      "Text around position 22953:\n",
      " most consuming “winapi.WaitForMultipleObjects” suggests that our script spends a significant amount\n"
     ]
    }
   ],
   "source": [
    "def extract_text_around_position(file_path, position, context=50):\n",
    "    \"\"\"\n",
    "    Extracts text around a given position in a file.\n",
    "\n",
    "    :param file_path: Path to the file.\n",
    "    :param position: The position (byte index) around which to extract text.\n",
    "    :param context: Number of characters to include before and after the position.\n",
    "    :return: Extracted text around the specified position.\n",
    "    \"\"\"\n",
    "    try:\n",
    "        with open(file_path, 'r', encoding='utf-8') as file:\n",
    "            # Move the file pointer to the position\n",
    "            file.seek(position - context)\n",
    "            # Read the desired range of characters\n",
    "            return file.read(2 * context)\n",
    "    except Exception as e:\n",
    "        return str(e)\n",
    "\n",
    "# File path to your README.md or other file\n",
    "file_path = 'README.md'\n",
    "\n",
    "# Position causing the error\n",
    "error_position = 22953\n",
    "\n",
    "# Extract and print the text around the error position\n",
    "text_around_position = extract_text_around_position(file_path, error_position)\n",
    "print(\"Text around position {}:\\n{}\".format(error_position, text_around_position))\n"
   ]
  }
 ],
 "metadata": {
  "kernelspec": {
   "display_name": "Python 3",
   "language": "python",
   "name": "python3"
  },
  "language_info": {
   "codemirror_mode": {
    "name": "ipython",
    "version": 3
   },
   "file_extension": ".py",
   "mimetype": "text/x-python",
   "name": "python",
   "nbconvert_exporter": "python",
   "pygments_lexer": "ipython3",
   "version": "3.9.13"
  }
 },
 "nbformat": 4,
 "nbformat_minor": 2
}
